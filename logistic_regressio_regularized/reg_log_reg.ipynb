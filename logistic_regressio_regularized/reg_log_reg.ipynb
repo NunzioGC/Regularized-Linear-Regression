{
 "cells": [
  {
   "cell_type": "code",
   "execution_count": null,
   "id": "6786ad5a",
   "metadata": {},
   "outputs": [],
   "source": []
  },
  {
   "cell_type": "code",
   "execution_count": 22,
   "id": "01a73862",
   "metadata": {
    "scrolled": true
   },
   "outputs": [
    {
     "data": {
      "image/png": "[encoded data removed]",
      "text/plain": [
       "<Figure size 560x480 with 1 Axes>"
      ]
     },
     "metadata": {
      "needs_background": "light"
     },
     "output_type": "display_data"
    },
    {
     "data": {
      "image/png": "[encoded data removed]",
      "text/plain": [
       "<Figure size 560x480 with 1 Axes>"
      ]
     },
     "metadata": {
      "needs_background": "light"
     },
     "output_type": "display_data"
    }
   ],
   "source": [
    "import pandas as pd\n",
    "import numpy as np\n",
    "import matplotlib.pyplot as plt\n",
    "\n",
    "#defining function\n",
    "def sigmoid(z):\n",
    "    sigmoid = 1/(1+np.exp(-1*z))               \n",
    "    return sigmoid\n",
    "\n",
    "def featureNormalize(X):\n",
    "    X_Norm = X.astype(float)                                     \n",
    "    mu = X.mean(axis=0)\n",
    "    sigma = X.std(axis=0)                                        \n",
    "    columns = np.shape(X)[1]\n",
    "    for i in range(0,columns):\n",
    "        X_Norm[:,i] = (X[:,i] - mu[i]) / (sigma[i])              \n",
    "    return X_Norm, mu, sigma\n",
    "\n",
    "def PolynomialFeatures(X1, X2, degree): \n",
    "    out = np.ones([len(X1),sum(range(degree + 2))])\n",
    "    curr_column = 1\n",
    "    for i in range(1, degree):\n",
    "        for j in range(0, i):\n",
    "            out[:, curr_column] = np.power(X1, i-j) * np.power(X2, j)\n",
    "            curr_column += 1\n",
    "    return out;\n",
    "\n",
    "def costFunction(X, y, theta):\n",
    "    m = len(y)                                        \n",
    "    h = sigmoid(np.dot(X,theta))\n",
    "    cost = -y*np.log(h)-(1-y)*np.log(1-h)\n",
    "    J = (1/m)*sum(cost)\n",
    "    return J\n",
    "\n",
    "def gradientDescend(X, y, theta, alpha, lamb, num_iters):\n",
    "    m = np.size(y)\n",
    "    J_history = np.zeros([num_iters, 1])\n",
    "    alpham = alpha / m;\n",
    "    for i in range(num_iters):\n",
    "        h = sigmoid(np.dot(X,theta))\n",
    "        theta = theta.dot(1-(alpham * lamb))- (alpham)*(np.transpose(X).dot(h-y))\n",
    "        J_history[i] = costFunction(X, y, theta)\n",
    "    return theta, J_history\n",
    "\n",
    "#import data\n",
    "data= np.asmatrix(pd.read_csv(\"titanicTrain.csv\"))     \n",
    "\n",
    "colum = np.shape(data)[1]\n",
    "X = np.array(data[:, 1:(colum)])\n",
    "y = np.array(data[:, 0])                                \n",
    "\n",
    "#plotting      \n",
    "morti1Class = 0\n",
    "morti2Class = 0\n",
    "morti3Class = 0\n",
    "lines = np.shape(X)[0]\n",
    "for i in range(lines):\n",
    "    if((y[i] == 0) and (X[i,0] == 1)):\n",
    "        morti1Class +=1\n",
    "    if((y[i] == 0) and (X[i,0] == 2)):\n",
    "        morti2Class +=1\n",
    "    if((y[i] == 0) and (X[i,0] == 3)):\n",
    "        morti3Class +=1\n",
    "plt.figure(1, figsize=(7,6), dpi=80)\n",
    "plt.bar(['Morti Prima Classe', 'Morti Seconda Classe', 'Morti Terza Classe'], [morti1Class, morti2Class, morti3Class])\n",
    "plt.title('Morti Per Classe')\n",
    "plt.show()\n",
    "\n",
    "#features normalized\n",
    "X, mu, sigma = featureNormalize(X)\n",
    "[m,n] = np.shape(X)\n",
    "X = np.c_[np.ones([m,1]), X]\n",
    "[m,n] = np.shape(X)\n",
    "\n",
    "#learning parameters\n",
    "alpha = 0.007                                                   \n",
    "itera = 3000\n",
    "theta_init = np.zeros([n,1])\n",
    "lamb = 10\n",
    "\n",
    "#execute learning\n",
    "theta, J_history = gradientDescend(X, y, theta_init, alpha, lamb, itera)\n",
    "\n",
    "#plotting convergence graph\n",
    "iteration_vector = np.arange(0, itera)\n",
    "plt.figure(2, figsize=(7,6), dpi=80)\n",
    "plt.plot(iteration_vector, J_history)\n",
    "plt.title(\"Grafico della Convergenza\")\n",
    "plt.xlabel(\"Numero Iterazioni\")                  \n",
    "plt.ylabel(\"Costo J\")\n",
    "plt.show()\n",
    "\n",
    "#predictions\n",
    "PREDICT_X = X[0:10,:]\n",
    "predict = np.round(sigmoid(PREDICT_X.dot(theta)))\n",
    "error = predict - y[0:10]\n",
    "absErr = abs(error)"
   ]
  },
  {
   "cell_type": "code",
   "execution_count": null,
   "id": "ebdb8bb3",
   "metadata": {},
   "outputs": [],
   "source": []
  },
  {
   "cell_type": "code",
   "execution_count": null,
   "id": "01a39ac8",
   "metadata": {},
   "outputs": [],
   "source": []
  },
  {
   "cell_type": "code",
   "execution_count": null,
   "id": "4828819a",
   "metadata": {},
   "outputs": [],
   "source": []
  },
  {
   "cell_type": "code",
   "execution_count": null,
   "id": "57a17d26",
   "metadata": {},
   "outputs": [],
   "source": []
  },
  {
   "cell_type": "code",
   "execution_count": null,
   "id": "1060c49a",
   "metadata": {},
   "outputs": [],
   "source": []
  }
 ],
 "metadata": {
  "kernelspec": {
   "display_name": "Python 3",
   "language": "python",
   "name": "python3"
  },
  "language_info": {
   "codemirror_mode": {
    "name": "ipython",
    "version": 3
   },
   "file_extension": ".py",
   "mimetype": "text/x-python",
   "name": "python",
   "nbconvert_exporter": "python",
   "pygments_lexer": "ipython3",
   "version": "3.8.8"
  }
 },
 "nbformat": 4,
 "nbformat_minor": 5
}
